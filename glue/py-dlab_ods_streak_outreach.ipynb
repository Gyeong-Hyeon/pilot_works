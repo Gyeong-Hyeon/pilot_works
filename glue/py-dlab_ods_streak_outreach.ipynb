{
 "cells": [
  {
   "cell_type": "code",
   "execution_count": 4,
   "id": "8e4a8759",
   "metadata": {},
   "outputs": [
    {
     "name": "stdout",
     "output_type": "stream",
     "text": [
      "Welcome to the Glue Interactive Sessions Kernel\n",
      "For more information on available magic commands, please type %help in any new cell.\n",
      "\n",
      "Please view our Getting Started page to access the most up-to-date information on the Interactive Sessions kernel: https://docs.aws.amazon.com/glue/latest/dg/interactive-sessions.html\n",
      "Current iam_role is None\n",
      "iam_role has been set to arn:aws:iam::458226961977:role/glue_exec_role.\n",
      "Previous region: None\n",
      "Setting new region to: ap-northeast-2\n",
      "Region is set to: ap-northeast-2\n",
      "Connections to be included:\n",
      "steadio-segment-con\n"
     ]
    }
   ],
   "source": [
    "%iam_role arn:aws:iam::458226961977:role/glue_exec_role\n",
    "%region ap-northeast-2\n",
    "%connections steadio-segment-con"
   ]
  },
  {
   "cell_type": "code",
   "execution_count": 0,
   "id": "63c1c103",
   "metadata": {},
   "outputs": [
    {
     "name": "stdout",
     "output_type": "stream",
     "text": [
      "Authenticating with profile=default\n",
      "glue_role_arn defined by user: arn:aws:iam::458226961977:role/glue_exec_role\n",
      "Trying to create a Glue session for the kernel.\n",
      "Worker Type: G.1X\n",
      "Number of Workers: 5\n",
      "Session ID: 1981d9ee-1376-4b40-b0e9-7bc121def690\n",
      "Applying the following default arguments:\n",
      "--glue_kernel_version 0.31\n",
      "--enable-glue-datacatalog true\n",
      "Waiting for session 1981d9ee-1376-4b40-b0e9-7bc121def690 to get into ready status...\n",
      "Session 1981d9ee-1376-4b40-b0e9-7bc121def690 has been created\n",
      "\n",
      "\n"
     ]
    }
   ],
   "source": [
    "import sys\n",
    "from awsglue import DynamicFrame\n",
    "from awsglue.utils import getResolvedOptions\n",
    "from awsglue.context import GlueContext\n",
    "from awsglue.job import Job\n",
    "from pyspark.context import SparkContext\n",
    "from pyspark.sql.functions import udf"
   ]
  },
  {
   "cell_type": "code",
   "execution_count": 1,
   "id": "2cce8545",
   "metadata": {},
   "outputs": [
    {
     "name": "stdout",
     "output_type": "stream",
     "text": [
      "\n"
     ]
    }
   ],
   "source": [
    "glue_context = GlueContext(SparkContext.getOrCreate())\n",
    "spark = glue_context.spark_session\n",
    "job = Job(glue_context)\n",
    "\n",
    "username = \"admin_user\"\n",
    "database = \"dev\"\n",
    "password = \"Hg6nNbUe24ud6WwM\"\n",
    "url = \"jdbc:redshift://steadio-segment.cdftxbqtzhu1.ap-northeast-2.redshift.amazonaws.com:5439/dev\""
   ]
  },
  {
   "cell_type": "code",
   "execution_count": 22,
   "id": "ef601b0c",
   "metadata": {},
   "outputs": [
    {
     "name": "stdout",
     "output_type": "stream",
     "text": [
      "\n"
     ]
    }
   ],
   "source": [
    "source_dlab_ods_streak_steadio_outreach =glue_context.create_dynamic_frame.from_options(\n",
    "    connection_type = \"redshift\",\n",
    "    connection_options = {\n",
    "                            \"url\": url\n",
    "                            ,\"database\" : database\n",
    "                            ,\"user\" : username\n",
    "                            ,\"password\" : password\n",
    "                            ,\"query\":\"\"\"\n",
    "                                    SELECT assignedtosharingentries AS email\n",
    "                                        , fields\n",
    "                                        , stagekey AS stage_type_id\n",
    "                                        , createddate AS created_at\n",
    "                                    FROM tumblbug_dw.streak.boxes\n",
    "                                    WHERE pipelineid = 'agxzfm1haWxmb29nYWVyMwsSDE9yZ2FuaXphdGlvbiIMdHVtYmxidWcuY29tDAsSCFdvcmtmbG93GICAxoW9psQLDA'\n",
    "                                    \"\"\"\n",
    "                            ,\"redshiftTmpDir\" : \"s3://steadio-glue-info/temporary/\"\n",
    "                            ,\"connectionName\":\"steadio-segment-con-jdbc\"\n",
    "                            ,\"aws_iam_role\": \"arn:aws:iam::458226961977:role/redshift-exec-role\"\n",
    "                            }\n",
    "                        )"
   ]
  },
  {
   "cell_type": "code",
   "execution_count": 23,
   "id": "8e22370f",
   "metadata": {},
   "outputs": [
    {
     "name": "stdout",
     "output_type": "stream",
     "text": [
      "+--------------------+--------------------+-------------+--------------------+\n",
      "|               email|              fields|stage_type_id|          created_at|\n",
      "+--------------------+--------------------+-------------+--------------------+\n",
      "|[{\"displayName\":\"...|{\"1006\":{\"calcula...|         5003|2022-06-08 02:04:...|\n",
      "|[{\"displayName\":\"...|{\"1006\":{\"calcula...|         5001|2022-06-08 02:04:...|\n",
      "|[{\"displayName\":\"...|{\"1006\":{\"calcula...|         5003|2022-05-11 10:01:...|\n",
      "|[{\"displayName\":\"...|{\"1006\":{\"calcula...|         5003|2022-06-08 02:04:...|\n",
      "|[{\"displayName\":\"...|{\"1006\":{\"calcula...|         5003|2022-06-08 02:04:...|\n",
      "|[{\"displayName\":\"...|{\"1006\":{\"calcula...|         5005|2022-06-08 01:40:...|\n",
      "|[{\"displayName\":\"...|{\"1006\":{\"calcula...|         5001|2022-06-08 02:04:...|\n",
      "|[{\"displayName\":\"...|{\"1006\":{\"calcula...|         5003|2022-06-08 02:04:...|\n",
      "|[{\"displayName\":\"...|{\"1006\":{\"calcula...|         5003|2022-06-08 02:04:...|\n",
      "|[{\"displayName\":\"...|{\"1006\":{\"calcula...|         5003|2022-04-26 07:47:...|\n",
      "|[{\"displayName\":\"...|{\"1006\":{\"calcula...|         5001|2022-04-29 03:38:...|\n",
      "|[{\"displayName\":\"...|{\"1006\":{\"calcula...|         5003|2022-04-26 07:47:...|\n",
      "|[{\"displayName\":\"...|{\"1006\":{\"calcula...|         5003|2022-05-24 12:35:...|\n",
      "|[{\"displayName\":\"...|{\"1006\":{\"calcula...|         5009|2022-03-30 05:33:...|\n",
      "|[{\"displayName\":\"...|{\"1006\":{\"calcula...|         5001|2022-04-29 03:08:...|\n",
      "|[{\"displayName\":\"...|{\"1006\":{\"calcula...|         5001|2022-03-30 05:33:...|\n",
      "|[{\"displayName\":\"...|{\"1006\":{\"calcula...|         5001|2022-04-26 07:47:...|\n",
      "|[{\"displayName\":\"...|{\"1006\":{\"calcula...|         5001|2022-03-30 05:33:...|\n",
      "|[{\"displayName\":\"...|{\"1006\":{\"calcula...|         5001|2022-04-29 03:08:...|\n",
      "|[{\"displayName\":\"...|{\"1006\":{\"calcula...|         5001|2022-04-29 03:38:...|\n",
      "+--------------------+--------------------+-------------+--------------------+\n",
      "only showing top 20 rows\n",
      "\n",
      "1136\n"
     ]
    }
   ],
   "source": [
    "source_dlab_ods_streak_steadio_outreach.toDF().show()\n",
    "source_dlab_ods_streak_steadio_outreach.toDF().count()"
   ]
  },
  {
   "cell_type": "code",
   "execution_count": 92,
   "id": "2b4703c8",
   "metadata": {},
   "outputs": [
    {
     "name": "stdout",
     "output_type": "stream",
     "text": [
      "\n"
     ]
    }
   ],
   "source": [
    "import json\n",
    "from pyspark.sql.functions import udf\n",
    "from pyspark.sql.types import StringType, IntegerType, BooleanType\n",
    "\n",
    "\n",
    "def parse_json(json_val, key:str, separator:str=None, idx:int=None):\n",
    "    if not json_val:\n",
    "        return None\n",
    "    \n",
    "    dic_val = json.loads(json_val)\n",
    "    if (isinstance(dic_val, list)):\n",
    "        dic_val = dic_val[0]\n",
    "\n",
    "    if not separator:\n",
    "        try:\n",
    "            if isinstance(dic_val[key], str):\n",
    "                return int(dic_val[key])\n",
    "            return dic_val[key]\n",
    "        except ValueError:\n",
    "            return dic_val[key]          \n",
    "        except KeyError:\n",
    "            return None\n",
    "    try:\n",
    "        return dic_val[key].split(separator)[idx]\n",
    "    except:\n",
    "        raise\n",
    "\n",
    "udf_email = udf(lambda x: parse_json(json_val=x, key=\"email\", separator='@', idx=0),StringType())\n",
    "udf_cat = udf(lambda x: parse_json(json_val=x, key=\"1003\"),IntegerType())\n",
    "udf_tumblbug = udf(lambda x: parse_json(json_val=x, key=\"1014\"),BooleanType())\n",
    "udf_lead = udf(lambda x: parse_json(json_val=x, key=\"1002\"),IntegerType())"
   ]
  },
  {
   "cell_type": "code",
   "execution_count": 93,
   "id": "f430daaf",
   "metadata": {},
   "outputs": [
    {
     "name": "stdout",
     "output_type": "stream",
     "text": [
      "\n"
     ]
    }
   ],
   "source": [
    "df_dlab_ods_streak_steadio_outreach = source_dlab_ods_streak_steadio_outreach.toDF()\n",
    "parsed_dlab_ods_streak_steadio_outreach = df_dlab_ods_streak_steadio_outreach.\\\n",
    "                                            withColumn(\"rep_name\", udf_email(df_dlab_ods_streak_steadio_outreach[\"email\"])).\\\n",
    "                                            withColumn(\"category_id\", udf_cat(df_dlab_ods_streak_steadio_outreach[\"fields\"])).\\\n",
    "                                            withColumn(\"is_tumblbug\", udf_tumblbug(df_dlab_ods_streak_steadio_outreach[\"fields\"])).\\\n",
    "                                            withColumn(\"leadsource_id\", udf_lead(df_dlab_ods_streak_steadio_outreach[\"fields\"]))"
   ]
  },
  {
   "cell_type": "markdown",
   "id": "f3ebf394",
   "metadata": {},
   "source": [
    "### Debug"
   ]
  },
  {
   "cell_type": "code",
   "execution_count": 77,
   "id": "fa8f9abd",
   "metadata": {},
   "outputs": [
    {
     "name": "stdout",
     "output_type": "stream",
     "text": [
      "\n"
     ]
    }
   ],
   "source": [
    "import json\n",
    "from pyspark.sql.functions import udf, size\n",
    "from pyspark.sql.types import StringType, IntegerType, BooleanType, ArrayType\n",
    "\n",
    "def parse_json(json_val, key:str, separator:str=None, idx:int=None):\n",
    "    if not json_val:\n",
    "        return None\n",
    "    \n",
    "    dic_val = json.loads(json_val)\n",
    "    if (isinstance(dic_val, list)) & (len(dic_val) == 1):\n",
    "        dic_val = dic_val[0]\n",
    "       \n",
    "    if not separator:\n",
    "        try:\n",
    "            return dic_val[key]\n",
    "        except KeyError:\n",
    "            return None\n",
    "    try:\n",
    "        return dic_val[key].split(separator)[idx]\n",
    "    except:\n",
    "        return '에러 발생'\n",
    "\n",
    "udf_email = udf(lambda x: parse_json(json_val=x, key=\"email\", separator='@', idx=0),StringType())\n",
    "udf_cat = udf(lambda x: parse_json(json_val=x, key=\"1003\"),StringType())\n",
    "udf_tumblbug = udf(lambda x: parse_json(json_val=x, key=\"1014\"),StringType())\n",
    "udf_lead = udf(lambda x: parse_json(json_val=x, key=\"1002\"),StringType())"
   ]
  },
  {
   "cell_type": "code",
   "execution_count": 40,
   "id": "b6720baf",
   "metadata": {},
   "outputs": [
    {
     "name": "stdout",
     "output_type": "stream",
     "text": [
      "+--------------------+-----------+\n",
      "|              fields|is_tumblbug|\n",
      "+--------------------+-----------+\n",
      "|{\"1006\":{\"calcula...|       null|\n",
      "|{\"1006\":{\"calcula...|       null|\n",
      "|{\"1006\":{\"calcula...|       null|\n",
      "|{\"1006\":{\"calcula...|       null|\n",
      "|{\"1006\":{\"calcula...|       null|\n",
      "|{\"1006\":{\"calcula...|       null|\n",
      "|{\"1006\":{\"calcula...|       null|\n",
      "|{\"1006\":{\"calcula...|       null|\n",
      "|{\"1006\":{\"calcula...|       null|\n",
      "|{\"1006\":{\"calcula...|       true|\n",
      "|{\"1006\":{\"calcula...|       null|\n",
      "|{\"1006\":{\"calcula...|       true|\n",
      "|{\"1006\":{\"calcula...|       null|\n",
      "|{\"1006\":{\"calcula...|       null|\n",
      "|{\"1006\":{\"calcula...|       null|\n",
      "|{\"1006\":{\"calcula...|       null|\n",
      "|{\"1006\":{\"calcula...|       true|\n",
      "|{\"1006\":{\"calcula...|       null|\n",
      "|{\"1006\":{\"calcula...|       null|\n",
      "|{\"1006\":{\"calcula...|       null|\n",
      "+--------------------+-----------+\n",
      "only showing top 20 rows\n"
     ]
    }
   ],
   "source": [
    "parsed_dlab_ods_streak_steadio_outreach.createOrReplaceTempView(\"DATA\")\n",
    "spark.sql(\"SELECT fields, is_tumblbug FROM DATA where category_id IS NOT NULL\").show()"
   ]
  },
  {
   "cell_type": "code",
   "execution_count": 34,
   "id": "dba8cc77",
   "metadata": {},
   "outputs": [
    {
     "name": "stdout",
     "output_type": "stream",
     "text": [
      "{\"1006\":{\"calculationValue\":0.0,\"calculationValueType\":\"java.lang.Double\",\"creationTimestamp\":1650959268187,\"lastUpdatedTimestamp\":1650959268187,\"lastCalculatedTimestamp\":1651111962381,\"calculationStatus\":\"SUCCESS\"},\"1014\":true}\n",
      "--------------------------------------------------\n",
      "{\"1006\":{\"calculationValue\":0.0,\"calculationValueType\":\"java.lang.Double\",\"creationTimestamp\":1654653845559,\"lastUpdatedTimestamp\":1654653845559,\"lastCalculatedTimestamp\":1655797741782,\"calculationStatus\":\"SUCCESS\"},\"1003\":\"9004\"}\n"
     ]
    }
   ],
   "source": [
    "temp_df = spark.sql(\"SELECT fields, category_id FROM DATA where category_id IS NOT NULL\")\n",
    "row_list = temp_df.collect()\n",
    "print(row_list[0].__getitem__(0))\n",
    "print(\"-\"*50)\n",
    "temp_df = spark.sql(\"SELECT fields, category_id FROM DATA where category_id IS NULL\")\n",
    "row_list = temp_df.collect()\n",
    "print(row_list[0].__getitem__(0))"
   ]
  },
  {
   "cell_type": "code",
   "execution_count": 76,
   "id": "08d91d93",
   "metadata": {},
   "outputs": [
    {
     "name": "stdout",
     "output_type": "stream",
     "text": [
      "Row(email='[{\"displayName\":\"(Sean) 김\",\"fullName\":\"김철민(Sean)\",\"email\":\"sean@tumblbug.com\",\"image\":\"https://lh3.googleusercontent.com/a-/AOh14Gg9oPjs_ebuTz-rDbZFvmoNQNfbTiMKOmjJz1A4nw=s96-c\",\"userKey\":\"agxzfm1haWxmb29nYWVyLwsSDE9yZ2FuaXphdGlvbiIMdHVtYmxidWcuY29tDAsSBFVzZXIYgIDc4J2u_woM\"},{\"displayName\":\"(june) 권\",\"fullName\":\"권지연(june)\",\"email\":\"june@tumblbug.com\",\"image\":\"https://lh3.googleusercontent.com/a-/AOh14GjsLq-PPsnuJHm2ybfusY_-I_w_Tki7x_z39ydZ=s96-c\",\"userKey\":\"agxzfm1haWxmb29nYWVyLwsSDE9yZ2FuaXphdGlvbiIMdHVtYmxidWcuY29tDAsSBFVzZXIYgICqgty23woM\"}]')\n"
     ]
    }
   ],
   "source": [
    "parsed_dlab_ods_streak_steadio_outreach.createOrReplaceTempView(\"DATA\")\n",
    "temp_df = spark.sql(\"SELECT email FROM DATA where rep_name = '에러 발생'\")\n",
    "row_list = temp_df.collect()\n",
    "print(row_list[0])"
   ]
  },
  {
   "cell_type": "markdown",
   "id": "bc2f40c2",
   "metadata": {},
   "source": [
    "----"
   ]
  },
  {
   "cell_type": "code",
   "execution_count": 94,
   "id": "1887b776",
   "metadata": {},
   "outputs": [
    {
     "name": "stdout",
     "output_type": "stream",
     "text": [
      "Total row counts:\n",
      "1136\n",
      "Total counts of unique tuples:\n",
      "1095\n"
     ]
    }
   ],
   "source": [
    "print(\"Total row counts:\")\n",
    "print(pre_dlab_ods_streak_steadio_outreach.count())\n",
    "print(\"Total counts of unique tuples:\")\n",
    "pre_dlab_ods_streak_steadio_outreach.distinct().count()"
   ]
  },
  {
   "cell_type": "code",
   "execution_count": 95,
   "id": "531b6b29",
   "metadata": {},
   "outputs": [
    {
     "name": "stdout",
     "output_type": "stream",
     "text": [
      "+--------+\n",
      "|rep_name|\n",
      "+--------+\n",
      "|    sean|\n",
      "|    june|\n",
      "|    cole|\n",
      "| jaewook|\n",
      "+--------+\n",
      "\n",
      "+-----------+\n",
      "|category_id|\n",
      "+-----------+\n",
      "|       9001|\n",
      "|       null|\n",
      "|       9007|\n",
      "|       9005|\n",
      "|       9006|\n",
      "|       9008|\n",
      "|       9004|\n",
      "|       9003|\n",
      "|       9023|\n",
      "|       9002|\n",
      "|       9021|\n",
      "|       9022|\n",
      "+-----------+\n",
      "\n",
      "+-------------+\n",
      "|stage_type_id|\n",
      "+-------------+\n",
      "|         5009|\n",
      "|         5005|\n",
      "|         5010|\n",
      "|         5001|\n",
      "|         5003|\n",
      "|         5004|\n",
      "|         5007|\n",
      "+-------------+\n",
      "\n",
      "+-----------+\n",
      "|is_tumblbug|\n",
      "+-----------+\n",
      "|       null|\n",
      "|       true|\n",
      "|      false|\n",
      "+-----------+\n",
      "\n",
      "+-------------+\n",
      "|leadsource_id|\n",
      "+-------------+\n",
      "|         9001|\n",
      "|         null|\n",
      "|         9002|\n",
      "+-------------+\n",
      "\n",
      "root\n",
      " |-- rep_name: string (nullable = true)\n",
      " |-- category_id: integer (nullable = true)\n",
      " |-- stage_type_id: string (nullable = true)\n",
      " |-- is_tumblbug: boolean (nullable = true)\n",
      " |-- leadsource_id: integer (nullable = true)\n",
      " |-- created_at: timestamp (nullable = true)\n"
     ]
    }
   ],
   "source": [
    "pre_dlab_ods_streak_steadio_outreach = parsed_dlab_ods_streak_steadio_outreach.\\\n",
    "                                        select(\"rep_name\", \"category_id\", \"stage_type_id\", \"is_tumblbug\", \"leadsource_id\", \"created_at\")\n",
    "\n",
    "pre_dlab_ods_streak_steadio_outreach.createOrReplaceTempView(\"DATA\")\n",
    "spark.sql(\"SELECT DISTINCT rep_name FROM DATA\").show()\n",
    "spark.sql(\"SELECT DISTINCT category_id FROM DATA\").show()\n",
    "spark.sql(\"SELECT DISTINCT stage_type_id FROM DATA\").show()\n",
    "spark.sql(\"SELECT DISTINCT is_tumblbug FROM DATA\").show()\n",
    "spark.sql(\"SELECT DISTINCT leadsource_id FROM DATA\").show()\n",
    "\n",
    "pre_dlab_ods_streak_steadio_outreach.printSchema()"
   ]
  },
  {
   "cell_type": "code",
   "execution_count": 100,
   "id": "1ba6f1ba",
   "metadata": {},
   "outputs": [
    {
     "name": "stdout",
     "output_type": "stream",
     "text": [
      "\n"
     ]
    }
   ],
   "source": [
    "pre_dlab_ods_streak_steadio_outreach = DynamicFrame.fromDF(pre_dlab_ods_streak_steadio_outreach\n",
    "                                                           , glue_context\n",
    "                                                           , \"pre_dlab_ods_streak_steadio_outreach\");"
   ]
  },
  {
   "cell_type": "code",
   "execution_count": 103,
   "id": "0c895c00",
   "metadata": {},
   "outputs": [
    {
     "name": "stdout",
     "output_type": "stream",
     "text": [
      "\n"
     ]
    }
   ],
   "source": [
    "pre_action = \"TRUNCATE TABLE dlab.temp_streak_job\"\n",
    "pre_dlab_temp_streak_job = glue_context.write_dynamic_frame.from_jdbc_conf(\n",
    "    frame=pre_dlab_ods_streak_steadio_outreach,\n",
    "    catalog_connection=\"steadio-segment-con\",\n",
    "    connection_options={\n",
    "        \"database\": \"dev\",\n",
    "        \"dbtable\": \"dlab.temp_streak_job\",\n",
    "        \"preactions\": pre_action\n",
    "    },\n",
    "    redshift_tmp_dir=\"s3://steadio-glue-info/temporary/\"\n",
    ")"
   ]
  }
 ],
 "metadata": {
  "kernelspec": {
   "display_name": "Glue PySpark",
   "language": "python",
   "name": "glue_pyspark"
  },
  "language_info": {
   "codemirror_mode": {
    "name": "python",
    "version": 3
   },
   "file_extension": ".py",
   "mimetype": "text/x-python",
   "name": "Python_Glue_Session",
   "pygments_lexer": "python3"
  }
 },
 "nbformat": 4,
 "nbformat_minor": 5
}
