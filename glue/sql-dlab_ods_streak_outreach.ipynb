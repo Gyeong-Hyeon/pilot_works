{
 "cells": [
  {
   "cell_type": "code",
   "execution_count": 4,
   "id": "a2243a45",
   "metadata": {},
   "outputs": [
    {
     "name": "stdout",
     "output_type": "stream",
     "text": [
      "Welcome to the Glue Interactive Sessions Kernel\n",
      "For more information on available magic commands, please type %help in any new cell.\n",
      "\n",
      "Please view our Getting Started page to access the most up-to-date information on the Interactive Sessions kernel: https://docs.aws.amazon.com/glue/latest/dg/interactive-sessions.html\n",
      "Current iam_role is None\n",
      "iam_role has been set to arn:aws:iam::458226961977:role/glue_exec_role.\n",
      "Previous region: None\n",
      "Setting new region to: ap-northeast-2\n",
      "Region is set to: ap-northeast-2\n",
      "Connections to be included:\n",
      "steadio-segment-con\n"
     ]
    }
   ],
   "source": [
    "%iam_role arn:aws:iam::458226961977:role/glue_exec_role\n",
    "%region ap-northeast-2\n",
    "%connections steadio-segment-con"
   ]
  },
  {
   "cell_type": "code",
   "execution_count": 0,
   "id": "989a5dc6",
   "metadata": {},
   "outputs": [
    {
     "name": "stdout",
     "output_type": "stream",
     "text": [
      "Authenticating with profile=default\n",
      "glue_role_arn defined by user: arn:aws:iam::458226961977:role/glue_exec_role\n",
      "Trying to create a Glue session for the kernel.\n",
      "Worker Type: G.1X\n",
      "Number of Workers: 5\n",
      "Session ID: 232e2761-ae6e-4784-a9ac-81d5b673e304\n",
      "Applying the following default arguments:\n",
      "--glue_kernel_version 0.31\n",
      "--enable-glue-datacatalog true\n",
      "Waiting for session 232e2761-ae6e-4784-a9ac-81d5b673e304 to get into ready status...\n",
      "Session 232e2761-ae6e-4784-a9ac-81d5b673e304 has been created\n",
      "\n",
      "\n"
     ]
    }
   ],
   "source": [
    "import sys\n",
    "from awsglue import DynamicFrame\n",
    "from awsglue.context import GlueContext\n",
    "from awsglue.job import Job\n",
    "from awsglue.utils import getResolvedOptions\n",
    "from pyspark.context import SparkContext"
   ]
  },
  {
   "cell_type": "code",
   "execution_count": 1,
   "id": "69425cce",
   "metadata": {},
   "outputs": [
    {
     "name": "stdout",
     "output_type": "stream",
     "text": [
      "\n"
     ]
    }
   ],
   "source": [
    "glue_context = GlueContext(SparkContext.getOrCreate())\n",
    "job = Job(glue_context)\n",
    "\n",
    "username = \"admin_user\"\n",
    "database = \"dev\"\n",
    "password = \"Hg6nNbUe24ud6WwM\"\n",
    "url = \"jdbc:redshift://steadio-segment.cdftxbqtzhu1.ap-northeast-2.redshift.amazonaws.com:5439/dev\""
   ]
  },
  {
   "cell_type": "code",
   "execution_count": 16,
   "id": "5708f40c",
   "metadata": {},
   "outputs": [
    {
     "name": "stdout",
     "output_type": "stream",
     "text": [
      "\n"
     ]
    }
   ],
   "source": [
    "source_dlab_ods_streak_outreach = glue_context.create_dynamic_frame.from_options(\n",
    "    connection_type = \"redshift\",\n",
    "    connection_options = {\n",
    "                            \"url\": url,\n",
    "                            \"database\" : database,\n",
    "                            \"user\" : username,\n",
    "                            \"password\" : password,\n",
    "                            \"query\":\"\"\"\n",
    "                                    select\n",
    "                                        b.id as id\n",
    "                                    ,\tp.id as pipeline_id\n",
    "                                    ,\tp.name as pipeline_name\n",
    "                                    ,\tsplit_part(\n",
    "                                        json_extract_path_text(\n",
    "                                            json_extract_array_element_text(assignedtosharingentries, 0), 'email'\n",
    "                                        ), '@', 1) as rep_name\n",
    "                                    ,\tcase when json_extract_path_text(b.fields,'1003') != '' \n",
    "                                        then cast(json_extract_path_text(b.fields,'1003') as int) end as category_id\n",
    "                                    ,   cast(b.stagekey as int) as stage_type_id\n",
    "                                    ,\tdecode(json_extract_path_text(b.fields,'1014'), 'true', true, 'false', false) as is_tumblbug\n",
    "                                    ,\tcase when json_extract_path_text(b.fields,'1002') != '' \n",
    "                                        then cast(json_extract_path_text(b.fields,'1002') as int) end as leadsource_id\n",
    "                                    ,\tb.createddate as created_at\n",
    "                                    ,   cast(current_timestamp + interval '9 hour' as timestamp) as batched_at\n",
    "                                    from tumblbug_dw.streak.boxes as b\n",
    "                                    inner join tumblbug_dw.streak.pipelines as p\n",
    "                                    on b.pipelineid = p.id\n",
    "                                    where p.id = 'agxzfm1haWxmb29nYWVyMwsSDE9yZ2FuaXphdGlvbiIMdHVtYmxidWcuY29tDAsSCFdvcmtmbG93GICAxoW9psQLDA'\n",
    "                                    \"\"\",\n",
    "                            \"redshiftTmpDir\" : \"s3://steadio-glue-info/temporary/\",\n",
    "                            \"connectionName\":\"steadio-segment-con-jdbc\",\n",
    "                            \"aws_iam_role\": \"arn:aws:iam::458226961977:role/redshift-exec-role\"\n",
    "                            }\n",
    "                        )"
   ]
  },
  {
   "cell_type": "code",
   "execution_count": 17,
   "id": "b8acaa0e",
   "metadata": {},
   "outputs": [
    {
     "name": "stdout",
     "output_type": "stream",
     "text": [
      "root\n",
      "|-- id: string\n",
      "|-- pipeline_id: string\n",
      "|-- pipeline_name: string\n",
      "|-- rep_name: string\n",
      "|-- category_id: int\n",
      "|-- stage_type_id: int\n",
      "|-- is_tumblbug: boolean\n",
      "|-- leadsource_id: int\n",
      "|-- created_at: timestamp\n",
      "|-- batched_at: timestamp\n"
     ]
    }
   ],
   "source": [
    "source_dlab_ods_streak_outreach.printSchema()"
   ]
  },
  {
   "cell_type": "code",
   "execution_count": 19,
   "id": "bd102e42",
   "metadata": {},
   "outputs": [
    {
     "name": "stdout",
     "output_type": "stream",
     "text": [
      "\n"
     ]
    }
   ],
   "source": [
    "pre_action = \"TRUNCATE TABLE dlab.temp_streak_job\"\n",
    "pre_dlab_temp_streak_job = glue_context.write_dynamic_frame.from_jdbc_conf(\n",
    "    frame=source_dlab_ods_streak_outreach\n",
    "    ,catalog_connection=\"steadio-segment-con\"\n",
    "    ,connection_options={\n",
    "        \"database\": \"dev\",\n",
    "        \"dbtable\": \"dlab.temp_streak_job\",\n",
    "        \"preactions\": pre_action\n",
    "    }\n",
    "    ,redshift_tmp_dir=\"s3://steadio-glue-info/temporary/\"\n",
    ")"
   ]
  }
 ],
 "metadata": {
  "kernelspec": {
   "display_name": "Glue PySpark",
   "language": "python",
   "name": "glue_pyspark"
  },
  "language_info": {
   "codemirror_mode": {
    "name": "python",
    "version": 3
   },
   "file_extension": ".py",
   "mimetype": "text/x-python",
   "name": "Python_Glue_Session",
   "pygments_lexer": "python3"
  }
 },
 "nbformat": 4,
 "nbformat_minor": 5
}
